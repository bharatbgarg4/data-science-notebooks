{
 "cells": [
  {
   "cell_type": "markdown",
   "metadata": {},
   "source": [
    "### Into to Data Science\n",
    "\n",
    "### Python Basics\n",
    "\n",
    "### Data science libraries\n",
    "\t* Numpy\n",
    "\t* Pandas\n",
    "\t* Matplotlib\n",
    "\t* Scipy\n",
    "    * Sci-Kit\n",
    "\n",
    "\n",
    "### Data pre-processing\n",
    "    * Dealing with Missing Data\n",
    "    * Dimensionality Reduction - PCA\n",
    "    * Feature Scaling\n",
    "    * Data Scaling\n",
    "\n",
    "### Machine learning\n",
    "    * Supervised Learning\n",
    "        * Regression\n",
    "        * Classification\n",
    "    * Unsupervised learning\n",
    "        * Clustering & Use cases\n",
    "        * Clustering Algorithms\n",
    "\n",
    "### Databases\n",
    "    * Relational\n",
    "    * Document\n",
    "    * Unstructured\n",
    "        \n",
    "### Big Data\n",
    "    * Data\n",
    "        * Data Extraction\n",
    "        * Types of Data - Structured, Unstructured, Semi-structured\n",
    "        * Raw and Processed Data\n",
    "        * Data Wrangling\n",
    "        * Web Scrapping - Facebook , Twitter\n",
    "        * Data Munging\n",
    "\t* Hadoop\n",
    "        * HDFS\n",
    "        * Map-Reduce\n",
    "        * Pig\n",
    "        * Hive\n",
    "        * HBase\n",
    "        * Sqoop\n",
    "        * Flume\n",
    "        * Zookeeper"
   ]
  }
 ],
 "metadata": {
  "kernelspec": {
   "display_name": "Python 2",
   "language": "python",
   "name": "python2"
  },
  "language_info": {
   "codemirror_mode": {
    "name": "ipython",
    "version": 2
   },
   "file_extension": ".py",
   "mimetype": "text/x-python",
   "name": "python",
   "nbconvert_exporter": "python",
   "pygments_lexer": "ipython2",
   "version": "2.7.15rc1"
  }
 },
 "nbformat": 4,
 "nbformat_minor": 2
}
