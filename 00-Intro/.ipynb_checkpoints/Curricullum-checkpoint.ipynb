{
 "cells": [
  {
   "cell_type": "code",
   "execution_count": null,
   "metadata": {},
   "outputs": [],
   "source": [
    "Into to Data Science\n",
    "\n",
    "Python Basics\n",
    "\n",
    "Data science libraries\n",
    "\tNumpy\n",
    "\tscipy\n",
    "\tpandas\n",
    "\tmatplotlib\n",
    "\tscikit\n",
    "\n",
    "\n",
    "Data gathering, processing\n",
    "    missing data\n",
    "    dimensionality reduction - pca\n",
    "    feature scaling\n",
    "    data scaling\n",
    "\n",
    "Machine learning\n",
    "    supervised learning\n",
    "        regression (5 algos)\n",
    "        classification (5 algos)\n",
    "    unsupervised learning\n",
    "        clustering & use cases\n",
    "        clustering algorithms\n",
    "\n",
    "Databases\n",
    "    Relational\n",
    "    Document\n",
    "    Unstructured\n",
    "        \n",
    "Big Data\n",
    "    data related\n",
    "\thadoop\n",
    "\tspark"
   ]
  }
 ],
 "metadata": {
  "kernelspec": {
   "display_name": "Python 2",
   "language": "python",
   "name": "python2"
  },
  "language_info": {
   "codemirror_mode": {
    "name": "ipython",
    "version": 2
   },
   "file_extension": ".py",
   "mimetype": "text/x-python",
   "name": "python",
   "nbconvert_exporter": "python",
   "pygments_lexer": "ipython2",
   "version": "2.7.15rc1"
  }
 },
 "nbformat": 4,
 "nbformat_minor": 2
}
