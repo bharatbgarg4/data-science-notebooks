{
 "cells": [
  {
   "cell_type": "markdown",
   "metadata": {},
   "source": [
    "### Relational Database :\n",
    "\n",
    "#### Uses:\n",
    "* airline reservation systems\n",
    "* inventory control\n",
    "* sales transactions\n",
    "* ATM activity\n",
    "\n",
    "#### Examples:\n",
    "* Mysql\n",
    "* Postgreaql"
   ]
  },
  {
   "cell_type": "markdown",
   "metadata": {},
   "source": [
    "### Document Database\n",
    "* A document-oriented database is a designed for storing, retrieving, and managing document-oriented, or semi structured data.\n",
    "\n",
    "#### Examples:\n",
    "* Mongodb\n",
    "* Couchbase"
   ]
  },
  {
   "cell_type": "markdown",
   "metadata": {},
   "source": [
    "### Unstructured Database\n",
    "* refers to information that doesn't reside in a traditional row-column database\n",
    "* not really a database\n",
    "* text and multimedia content\n",
    "* e-mail messages\n",
    "* word processing documents"
   ]
  },
  {
   "cell_type": "code",
   "execution_count": null,
   "metadata": {},
   "outputs": [],
   "source": []
  }
 ],
 "metadata": {
  "kernelspec": {
   "display_name": "Python 2",
   "language": "python",
   "name": "python2"
  },
  "language_info": {
   "codemirror_mode": {
    "name": "ipython",
    "version": 2
   },
   "file_extension": ".py",
   "mimetype": "text/x-python",
   "name": "python",
   "nbconvert_exporter": "python",
   "pygments_lexer": "ipython2",
   "version": "2.7.15rc1"
  }
 },
 "nbformat": 4,
 "nbformat_minor": 2
}
