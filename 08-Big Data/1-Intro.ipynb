{
 "cells": [
  {
   "cell_type": "markdown",
   "metadata": {},
   "source": [
    "## Big Data\n",
    "**Big Data refers to technologies and initiatives that involve data that is too diverse, fast-changing or massive for conventional technologies, skills and infra-structure to address efficiently.**\n",
    "\n",
    "#### Big data can be described by the following characteristics:\n",
    "* **Volume**: The quantity of generated and stored data. The size of the data determines the value and potential insight, and whether it can be considered big data or not.\n",
    "\n",
    "* **Variety**: The type and nature of the data. This helps people who analyze it to effectively use the resulting insight. Big data draws from text, images, audio, video.\n",
    "\n",
    "* **Velocity**: In this context, the speed at which the data is generated and processed to meet the demands and challenges that lie in the path of growth and development."
   ]
  },
  {
   "cell_type": "markdown",
   "metadata": {},
   "source": [
    "# Hadoop\n",
    "\n",
    "* allows to store and process big data\n",
    "* in a distributed environment\n",
    "* across clusters of computers,\n",
    "* designed to scale up from single servers to thousands of machines, each offering local computation and storage\n",
    "\n",
    "## Use case:\n",
    "* customer analytics\n",
    "* predict customer churn\n",
    "* analyze clickstream data to better target online ads to web users\n",
    "* track customer sentiment based on comments about a company on social networks"
   ]
  },
  {
   "cell_type": "markdown",
   "metadata": {},
   "source": [
    "### Stack    \n",
    "    * HDFS - Distributed storage layer for Hadoop.\n",
    "    * Map-Reduce - Parallel processing layer for Hadoop.\n",
    "    * Pig - Top-level scripting language, enables writing complex data processing without Java programming.\n",
    "    * Hive -  data warehousing infrastructure, enables easy data summarization, using SQL queries.\n",
    "    * HBase - No-SQL database on top of HDFS, used to store semi-structered data.\n",
    "    * Sqoop - Used to transport huge volumes of data between Hadoop and RDBMS.\n",
    "    * Flume - Used for collecting streaming data.\n",
    "    * Zookeeper - Helps manage and reliabily distribute tasks to different nodes in the cluster."
   ]
  },
  {
   "cell_type": "markdown",
   "metadata": {},
   "source": [
    "### Install\n",
    "\n",
    "Option 1: Install each app for the required stack individually and then configure it. Then repeat the same process on different servers when going to production.\n",
    "\n",
    "Option 2: Write a script to do the installation and setup. Then use it on every server, Although writing it will involve many iterations of setup and debugging itself.\n",
    "\n",
    "Option 3: Use a pre-written library for managing the installation, management and monitoring the stack, like Ambari.\n",
    "\n",
    "Option 4: Use a complete packaged Distribution from a Hadoop Vendor, like HortonWare or Cloudera.\n",
    "\n",
    "Option 5: Use a web service such as Amazon Elastic MapReduce (Amazon EMR).\n",
    "\n"
   ]
  },
  {
   "cell_type": "markdown",
   "metadata": {},
   "source": [
    "\n"
   ]
  }
 ],
 "metadata": {
  "kernelspec": {
   "display_name": "Python 2",
   "language": "python",
   "name": "python2"
  },
  "language_info": {
   "codemirror_mode": {
    "name": "ipython",
    "version": 2
   },
   "file_extension": ".py",
   "mimetype": "text/x-python",
   "name": "python",
   "nbconvert_exporter": "python",
   "pygments_lexer": "ipython2",
   "version": "2.7.15rc1"
  }
 },
 "nbformat": 4,
 "nbformat_minor": 2
}
