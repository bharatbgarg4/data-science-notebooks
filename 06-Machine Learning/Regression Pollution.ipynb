{
 "cells": [
  {
   "cell_type": "code",
   "execution_count": 1,
   "metadata": {},
   "outputs": [],
   "source": [
    "import pandas as pd\n",
    "import numpy as np\n",
    "import seaborn as sns\n",
    "from sklearn import metrics, svm\n",
    "from sklearn.model_selection import train_test_split"
   ]
  },
  {
   "cell_type": "code",
   "execution_count": 2,
   "metadata": {},
   "outputs": [
    {
     "data": {
      "text/html": [
       "<div>\n",
       "<style scoped>\n",
       "    .dataframe tbody tr th:only-of-type {\n",
       "        vertical-align: middle;\n",
       "    }\n",
       "\n",
       "    .dataframe tbody tr th {\n",
       "        vertical-align: top;\n",
       "    }\n",
       "\n",
       "    .dataframe thead th {\n",
       "        text-align: right;\n",
       "    }\n",
       "</style>\n",
       "<table border=\"1\" class=\"dataframe\">\n",
       "  <thead>\n",
       "    <tr style=\"text-align: right;\">\n",
       "      <th></th>\n",
       "      <th>PREC</th>\n",
       "      <th>JANT</th>\n",
       "      <th>JULT</th>\n",
       "      <th>OVR65</th>\n",
       "      <th>POPN</th>\n",
       "      <th>EDUC</th>\n",
       "      <th>HOUS</th>\n",
       "      <th>DENS</th>\n",
       "      <th>NONW</th>\n",
       "      <th>WWDRK</th>\n",
       "      <th>POOR</th>\n",
       "      <th>HC</th>\n",
       "      <th>NOX</th>\n",
       "      <th>SO2</th>\n",
       "      <th>HUMID</th>\n",
       "      <th>MORT</th>\n",
       "    </tr>\n",
       "  </thead>\n",
       "  <tbody>\n",
       "    <tr>\n",
       "      <th>0</th>\n",
       "      <td>36</td>\n",
       "      <td>27</td>\n",
       "      <td>71</td>\n",
       "      <td>8.1</td>\n",
       "      <td>3.34</td>\n",
       "      <td>11.4</td>\n",
       "      <td>81.5</td>\n",
       "      <td>3243</td>\n",
       "      <td>8.8</td>\n",
       "      <td>42.6</td>\n",
       "      <td>11.7</td>\n",
       "      <td>21</td>\n",
       "      <td>15</td>\n",
       "      <td>59</td>\n",
       "      <td>59</td>\n",
       "      <td>921.870</td>\n",
       "    </tr>\n",
       "    <tr>\n",
       "      <th>1</th>\n",
       "      <td>35</td>\n",
       "      <td>23</td>\n",
       "      <td>72</td>\n",
       "      <td>11.1</td>\n",
       "      <td>3.14</td>\n",
       "      <td>11.0</td>\n",
       "      <td>78.8</td>\n",
       "      <td>4281</td>\n",
       "      <td>3.5</td>\n",
       "      <td>50.7</td>\n",
       "      <td>14.4</td>\n",
       "      <td>8</td>\n",
       "      <td>10</td>\n",
       "      <td>39</td>\n",
       "      <td>57</td>\n",
       "      <td>997.875</td>\n",
       "    </tr>\n",
       "    <tr>\n",
       "      <th>2</th>\n",
       "      <td>44</td>\n",
       "      <td>29</td>\n",
       "      <td>74</td>\n",
       "      <td>10.4</td>\n",
       "      <td>3.21</td>\n",
       "      <td>9.8</td>\n",
       "      <td>81.6</td>\n",
       "      <td>4260</td>\n",
       "      <td>0.8</td>\n",
       "      <td>39.4</td>\n",
       "      <td>12.4</td>\n",
       "      <td>6</td>\n",
       "      <td>6</td>\n",
       "      <td>33</td>\n",
       "      <td>54</td>\n",
       "      <td>962.354</td>\n",
       "    </tr>\n",
       "    <tr>\n",
       "      <th>3</th>\n",
       "      <td>47</td>\n",
       "      <td>45</td>\n",
       "      <td>79</td>\n",
       "      <td>6.5</td>\n",
       "      <td>3.41</td>\n",
       "      <td>11.1</td>\n",
       "      <td>77.5</td>\n",
       "      <td>3125</td>\n",
       "      <td>27.1</td>\n",
       "      <td>50.2</td>\n",
       "      <td>20.6</td>\n",
       "      <td>18</td>\n",
       "      <td>8</td>\n",
       "      <td>24</td>\n",
       "      <td>56</td>\n",
       "      <td>982.291</td>\n",
       "    </tr>\n",
       "    <tr>\n",
       "      <th>4</th>\n",
       "      <td>43</td>\n",
       "      <td>35</td>\n",
       "      <td>77</td>\n",
       "      <td>7.6</td>\n",
       "      <td>3.44</td>\n",
       "      <td>9.6</td>\n",
       "      <td>84.6</td>\n",
       "      <td>6441</td>\n",
       "      <td>24.4</td>\n",
       "      <td>43.7</td>\n",
       "      <td>14.3</td>\n",
       "      <td>43</td>\n",
       "      <td>38</td>\n",
       "      <td>206</td>\n",
       "      <td>55</td>\n",
       "      <td>1071.289</td>\n",
       "    </tr>\n",
       "  </tbody>\n",
       "</table>\n",
       "</div>"
      ],
      "text/plain": [
       "   PREC  JANT  JULT  OVR65  POPN  EDUC  HOUS  DENS  NONW  WWDRK  POOR  HC  \\\n",
       "0    36    27    71    8.1  3.34  11.4  81.5  3243   8.8   42.6  11.7  21   \n",
       "1    35    23    72   11.1  3.14  11.0  78.8  4281   3.5   50.7  14.4   8   \n",
       "2    44    29    74   10.4  3.21   9.8  81.6  4260   0.8   39.4  12.4   6   \n",
       "3    47    45    79    6.5  3.41  11.1  77.5  3125  27.1   50.2  20.6  18   \n",
       "4    43    35    77    7.6  3.44   9.6  84.6  6441  24.4   43.7  14.3  43   \n",
       "\n",
       "   NOX  SO2  HUMID      MORT  \n",
       "0   15   59     59   921.870  \n",
       "1   10   39     57   997.875  \n",
       "2    6   33     54   962.354  \n",
       "3    8   24     56   982.291  \n",
       "4   38  206     55  1071.289  "
      ]
     },
     "execution_count": 2,
     "metadata": {},
     "output_type": "execute_result"
    }
   ],
   "source": [
    "data=pd.read_csv('../datasets/pollution.csv')\n",
    "data.head()"
   ]
  },
  {
   "cell_type": "code",
   "execution_count": 4,
   "metadata": {},
   "outputs": [],
   "source": [
    "X = data.iloc [:,:-1]\n",
    "y = data.iloc [:,-1]\n",
    "X_train, X_test, y_train, y_test = train_test_split (X, y, test_size = .20)"
   ]
  },
  {
   "cell_type": "code",
   "execution_count": 17,
   "metadata": {},
   "outputs": [],
   "source": [
    "from sklearn.ensemble import RandomForestRegressor, AdaBoostRegressor"
   ]
  },
  {
   "cell_type": "code",
   "execution_count": 21,
   "metadata": {},
   "outputs": [],
   "source": [
    "clf= AdaBoostRegressor()\n",
    "clf = clf.fit(X_train, y_train)"
   ]
  },
  {
   "cell_type": "code",
   "execution_count": 22,
   "metadata": {},
   "outputs": [],
   "source": [
    "yp=clf.predict(X_test)"
   ]
  },
  {
   "cell_type": "code",
   "execution_count": 23,
   "metadata": {},
   "outputs": [
    {
     "data": {
      "text/plain": [
       "22.37743521062265"
      ]
     },
     "execution_count": 23,
     "metadata": {},
     "output_type": "execute_result"
    }
   ],
   "source": [
    "metrics.mean_absolute_error(y_test,yp )"
   ]
  },
  {
   "cell_type": "code",
   "execution_count": null,
   "metadata": {},
   "outputs": [],
   "source": []
  }
 ],
 "metadata": {
  "kernelspec": {
   "display_name": "Python 2",
   "language": "python",
   "name": "python2"
  },
  "language_info": {
   "codemirror_mode": {
    "name": "ipython",
    "version": 2
   },
   "file_extension": ".py",
   "mimetype": "text/x-python",
   "name": "python",
   "nbconvert_exporter": "python",
   "pygments_lexer": "ipython2",
   "version": "2.7.15rc1"
  }
 },
 "nbformat": 4,
 "nbformat_minor": 2
}
