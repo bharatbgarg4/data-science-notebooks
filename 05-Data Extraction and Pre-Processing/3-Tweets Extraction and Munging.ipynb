{
 "cells": [
  {
   "cell_type": "markdown",
   "metadata": {},
   "source": [
    "## Extracting tweets from twitter api and munging it for further sentiment analysis\n",
    "* Go to http://dev.twitter.com/apps/new , create app and get access tokens"
   ]
  },
  {
   "cell_type": "code",
   "execution_count": null,
   "metadata": {},
   "outputs": [],
   "source": [
    "import tweepy, json"
   ]
  },
  {
   "cell_type": "code",
   "execution_count": null,
   "metadata": {},
   "outputs": [],
   "source": []
  },
  {
   "cell_type": "code",
   "execution_count": null,
   "metadata": {},
   "outputs": [],
   "source": [
    "auth = tweepy.OAuthHandler(consumer_key,consumer_secret)\n",
    "auth.set_access_token(access_token,access_token_secret)"
   ]
  },
  {
   "cell_type": "code",
   "execution_count": 106,
   "metadata": {
    "collapsed": true
   },
   "outputs": [],
   "source": [
    "api = tweepy.API(auth)"
   ]
  },
  {
   "cell_type": "markdown",
   "metadata": {},
   "source": [
    "### Tweet Cleaner and  Sentiment Analyser\n",
    "pip install textblob"
   ]
  },
  {
   "cell_type": "code",
   "execution_count": 107,
   "metadata": {
    "collapsed": true
   },
   "outputs": [],
   "source": [
    "from textblob import TextBlob \n",
    "def clean_tweet(tweet): \n",
    "    return ' '.join(re.sub(\"(@[A-Za-z0-9]+)|([^0-9A-Za-z \\t]) |(\\w+:\\/\\/\\S+)\", \" \", tweet).split()) \n",
    "  \n",
    "def get_tweet_sentiment(tweet): \n",
    "    analysis = TextBlob(clean_tweet(tweet)) \n",
    "    if analysis.sentiment.polarity > 0: \n",
    "        return 'positive'\n",
    "    elif analysis.sentiment.polarity == 0: \n",
    "        return 'neutral'\n",
    "    else: \n",
    "        return 'negative'"
   ]
  },
  {
   "cell_type": "code",
   "execution_count": 108,
   "metadata": {
    "collapsed": true
   },
   "outputs": [],
   "source": [
    "def twee(tweet):\n",
    "    print tweet.text\n",
    "    print\n",
    "    print get_tweet_sentiment(tweet.text)\n",
    "    print\n",
    "    print tweet.user.screen_name + ' - '+tweet.user.location\n",
    "    print tweet.created_at\n",
    "    print \n",
    "    print '-- '*12+'\\n'"
   ]
  },
  {
   "cell_type": "code",
   "execution_count": 109,
   "metadata": {
    "collapsed": true
   },
   "outputs": [],
   "source": [
    "#api.me()"
   ]
  },
  {
   "cell_type": "code",
   "execution_count": 110,
   "metadata": {},
   "outputs": [
    {
     "name": "stdout",
     "output_type": "stream",
     "text": [
      "Boy strokes Prince Harry’s beard during royal couple's Australia visit https://t.co/fvfcHCOhW2\n",
      "\n",
      "neutral\n",
      "\n",
      "CGTNOfficial - Beijing, China\n",
      "2018-10-18 07:15:00\n",
      "\n",
      "-- -- -- -- -- -- -- -- -- -- -- -- \n",
      "\n",
      "Beautiful-\n",
      "This is an engineering graduate , Hisamuddin Khan who's father is a rickshaw puller. Back from convocati… https://t.co/3CjezTF6kc\n",
      "\n",
      "positive\n",
      "\n",
      "virendersehwag - India\n",
      "2018-10-18 07:13:33\n",
      "\n",
      "-- -- -- -- -- -- -- -- -- -- -- -- \n",
      "\n",
      "RT @JarnailSinghAAP: \"22 साल कांग्रेस में रहा हूँ,जो काम @AamAadmiParty की सरकार कर रही है वो किसी ने नहीं किया,\n",
      "इससे प्रभावित होकर मैं अम्…\n",
      "\n",
      "neutral\n",
      "\n",
      "AamAadmiParty - India\n",
      "2018-10-18 07:10:20\n",
      "\n",
      "-- -- -- -- -- -- -- -- -- -- -- -- \n",
      "\n",
      "What Components are needed to build a #SmartCity?\n",
      "\n",
      "#CyberSecurity #IoT #5G #Industry40 #MachineLearning #BigData… https://t.co/mGHSH3FOzX\n",
      "\n",
      "neutral\n",
      "\n",
      "Fisher85M - Vernon, CT\n",
      "2018-10-18 07:10:05\n",
      "\n",
      "-- -- -- -- -- -- -- -- -- -- -- -- \n",
      "\n"
     ]
    }
   ],
   "source": [
    "public_tweets = api.home_timeline(count=4)\n",
    "for tweet in public_tweets:\n",
    "    twee(tweet)"
   ]
  },
  {
   "cell_type": "code",
   "execution_count": 111,
   "metadata": {},
   "outputs": [
    {
     "name": "stdout",
     "output_type": "stream",
     "text": [
      "RT @nichegamer: @elonmusk Every time I think of a Lemur I think of this video https://t.co/1T20lSWeYi\n",
      "\n",
      "neutral\n",
      "\n",
      "elonmusk - \n",
      "2018-10-18 06:24:48\n",
      "\n",
      "-- -- -- -- -- -- -- -- -- -- -- -- \n",
      "\n",
      "You’ll see\n",
      "\n",
      "neutral\n",
      "\n",
      "elonmusk - \n",
      "2018-10-18 05:07:01\n",
      "\n",
      "-- -- -- -- -- -- -- -- -- -- -- -- \n",
      "\n",
      "Tomorrow brings a lemur https://t.co/rm6S17h35q\n",
      "\n",
      "neutral\n",
      "\n",
      "elonmusk - \n",
      "2018-10-18 05:06:31\n",
      "\n",
      "-- -- -- -- -- -- -- -- -- -- -- -- \n",
      "\n",
      "Special Circumstances https://t.co/Kk36qj6XJt\n",
      "\n",
      "positive\n",
      "\n",
      "elonmusk - \n",
      "2018-10-17 22:56:58\n",
      "\n",
      "-- -- -- -- -- -- -- -- -- -- -- -- \n",
      "\n"
     ]
    }
   ],
   "source": [
    "u1='realDonaldTrump'\n",
    "u2='nytimes'\n",
    "u3='narendramodi'\n",
    "u4='elonmusk'\n",
    "results = api.user_timeline(id=u4, count=4)\n",
    "for tweet in results:\n",
    "    twee(tweet)"
   ]
  },
  {
   "cell_type": "code",
   "execution_count": 115,
   "metadata": {},
   "outputs": [
    {
     "name": "stdout",
     "output_type": "stream",
     "text": [
      "PM Narendra Modi educates Mumbai party workers on welfare schemes\n",
      "https://t.co/UdR6ipTs8u via NaMo App https://t.co/CExukbbiPS\n",
      "\n",
      "neutral\n",
      "\n",
      "dhameliya13 - \n",
      "2018-10-18 07:17:48\n",
      "\n",
      "-- -- -- -- -- -- -- -- -- -- -- -- \n",
      "\n",
      "Will attend flag hoisting ceremony at Red Fort on Oct 21: PM Modi\n",
      "https://t.co/3iTRIE7jjZ via NaMo App https://t.co/xJ4OMjF4Pp\n",
      "\n",
      "neutral\n",
      "\n",
      "dhameliya13 - \n",
      "2018-10-18 07:17:48\n",
      "\n",
      "-- -- -- -- -- -- -- -- -- -- -- -- \n",
      "\n",
      "RT @vijai63: Official page of @INCIndia \n",
      "sponsoring ads on Facebook in Pakistan to remove Modi. Legacy of @RahulGandhi and Mani Shankar Aiy…\n",
      "\n",
      "neutral\n",
      "\n",
      "DJ_KushSounds - New India\n",
      "2018-10-18 07:17:47\n",
      "\n",
      "-- -- -- -- -- -- -- -- -- -- -- -- \n",
      "\n",
      "RT @BhavikaKapoor5: Read what @BJP4India promised regarding NPA and what they have done. In 2014 it was 50k cr and today it is 12lacs cr. A…\n",
      "\n",
      "neutral\n",
      "\n",
      "Imbeingimran786 - Bihar, India\n",
      "2018-10-18 07:17:45\n",
      "\n",
      "-- -- -- -- -- -- -- -- -- -- -- -- \n",
      "\n",
      "Shame on Modi's India to compromise on Indians health: https://t.co/aMaY3ztJJV\n",
      "\n",
      "neutral\n",
      "\n",
      "manavjivan - TWITZERLAND\n",
      "2018-10-18 07:17:44\n",
      "\n",
      "-- -- -- -- -- -- -- -- -- -- -- -- \n",
      "\n",
      "RT @AgentSaffron: If a man who ensured high economic growth, jobs, manufacturing, national security, strong foreign policy, power, water, i…\n",
      "\n",
      "positive\n",
      "\n",
      "singhvaibhav921 - Jaipur, India\n",
      "2018-10-18 07:17:41\n",
      "\n",
      "-- -- -- -- -- -- -- -- -- -- -- -- \n",
      "\n",
      "RT @RifatJawaid: Coming up on Indian channels: \n",
      "- PM was so upset with allegations against Akbar that he didn't sleep for many nights\n",
      "- He…\n",
      "\n",
      "positive\n",
      "\n",
      "rayyanr - \n",
      "2018-10-18 07:17:40\n",
      "\n",
      "-- -- -- -- -- -- -- -- -- -- -- -- \n",
      "\n",
      "RT @SmokingSkills_: How shameless of @VinodDua7 to hide behind political agenda to save his ass from molestation charges. And some self pro…\n",
      "\n",
      "negative\n",
      "\n",
      "JAIP00NIA - Jaipur, India\n",
      "2018-10-18 07:17:40\n",
      "\n",
      "-- -- -- -- -- -- -- -- -- -- -- -- \n",
      "\n",
      "RT @amitmalviya: Official Congress page sponsoring ads on Facebook in Pakistan to remove Modi! https://t.co/F9hhMFEPzS\n",
      "\n",
      "neutral\n",
      "\n",
      "TheGujjuGuy - Mumbai, India\n",
      "2018-10-18 07:17:39\n",
      "\n",
      "-- -- -- -- -- -- -- -- -- -- -- -- \n",
      "\n",
      "RT @t_d_h_nair: Thank you Mr @arunjaitley for conforming Modi’s “make in India” campaign was another Jumla :) https://t.co/79t3uQKFbU\n",
      "\n",
      "neutral\n",
      "\n",
      "FarooqBaba - INDIA\n",
      "2018-10-18 07:17:39\n",
      "\n",
      "-- -- -- -- -- -- -- -- -- -- -- -- \n",
      "\n"
     ]
    }
   ],
   "source": [
    "results = api.search(q=\"modi\", lang=\"en\",count=10)\n",
    "for tweet in results:\n",
    "    twee(tweet)"
   ]
  },
  {
   "cell_type": "markdown",
   "metadata": {},
   "source": [
    "## NLTK"
   ]
  },
  {
   "cell_type": "code",
   "execution_count": 113,
   "metadata": {},
   "outputs": [
    {
     "name": "stdout",
     "output_type": "stream",
     "text": [
      "['Hello Mr. Smith, how are you doing today?', 'The weather is great, and Python is awesome.', 'The sky is pinkish-blue.', \"You shouldn't eat cardboard.\"]\n"
     ]
    }
   ],
   "source": [
    "from nltk.tokenize import sent_tokenize, word_tokenize\n",
    "EXAMPLE_TEXT = \"Hello Mr. Smith, how are you doing today? The weather is great, and Python is awesome. The sky is pinkish-blue. You shouldn't eat cardboard.\"\n",
    "\n",
    "print(sent_tokenize(EXAMPLE_TEXT))"
   ]
  },
  {
   "cell_type": "code",
   "execution_count": 114,
   "metadata": {},
   "outputs": [
    {
     "data": {
      "text/plain": [
       "['Hello',\n",
       " 'Mr.',\n",
       " 'Smith',\n",
       " ',',\n",
       " 'how',\n",
       " 'are',\n",
       " 'you',\n",
       " 'doing',\n",
       " 'today',\n",
       " '?',\n",
       " 'The',\n",
       " 'weather',\n",
       " 'is',\n",
       " 'great',\n",
       " ',',\n",
       " 'and',\n",
       " 'Python',\n",
       " 'is',\n",
       " 'awesome',\n",
       " '.',\n",
       " 'The',\n",
       " 'sky',\n",
       " 'is',\n",
       " 'pinkish-blue',\n",
       " '.',\n",
       " 'You',\n",
       " 'should',\n",
       " \"n't\",\n",
       " 'eat',\n",
       " 'cardboard',\n",
       " '.']"
      ]
     },
     "execution_count": 114,
     "metadata": {},
     "output_type": "execute_result"
    }
   ],
   "source": [
    "word_tokenize(EXAMPLE_TEXT)"
   ]
  }
 ],
 "metadata": {
  "kernelspec": {
   "display_name": "Python 2",
   "language": "python",
   "name": "python2"
  },
  "language_info": {
   "codemirror_mode": {
    "name": "ipython",
    "version": 2
   },
   "file_extension": ".py",
   "mimetype": "text/x-python",
   "name": "python",
   "nbconvert_exporter": "python",
   "pygments_lexer": "ipython2",
   "version": "2.7.15rc1"
  }
 },
 "nbformat": 4,
 "nbformat_minor": 2
}
